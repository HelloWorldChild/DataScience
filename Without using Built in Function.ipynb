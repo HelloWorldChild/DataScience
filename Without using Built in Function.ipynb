{
 "cells": [
  {
   "cell_type": "code",
   "execution_count": 19,
   "id": "bc70f305",
   "metadata": {},
   "outputs": [
    {
     "name": "stdout",
     "output_type": "stream",
     "text": [
      "Enter the No of Values : 4\n"
     ]
    }
   ],
   "source": [
    "#sigma=population standard deviation\n",
    "#mu=population mean\n",
    "\n",
    "import numpy as np\n",
    "import math\n",
    "n=int(input(\"Enter the No of Values : \"))\n",
    "mylist=[]\n",
    "variance=0\n",
    "summ=0"
   ]
  },
  {
   "cell_type": "code",
   "execution_count": 20,
   "id": "23a05ec0",
   "metadata": {},
   "outputs": [
    {
     "name": "stdout",
     "output_type": "stream",
     "text": [
      "Enter the Value : 234\n",
      "Enter the Value : 54\n",
      "Enter the Value : 32\n",
      "Enter the Value : 21\n",
      "Maximum  value is :  234\n",
      "Minimum  value is :  21\n"
     ]
    }
   ],
   "source": [
    "for i in range(n):\n",
    "    ele=int(input(\"Enter the Value : \"))\n",
    "    mylist.append(ele)\n",
    "    summ=summ+ele"
   ]
  },
  {
   "cell_type": "code",
   "execution_count": 29,
   "id": "50d1dd00",
   "metadata": {},
   "outputs": [
    {
     "name": "stdout",
     "output_type": "stream",
     "text": [
      "Maximum  value is :  234\n",
      "Minimum  value is :  21\n"
     ]
    }
   ],
   "source": [
    "\n",
    "maxx=np.max(mylist)\n",
    "print(\"Maximum  value is : \",maxx)\n",
    "minn=np.min(mylist)\n",
    "print(\"Minimum  value is : \",minn)"
   ]
  },
  {
   "cell_type": "markdown",
   "id": "7fd20dbf",
   "metadata": {},
   "source": [
    "#### "
   ]
  },
  {
   "cell_type": "code",
   "execution_count": 22,
   "id": "84e34e5c",
   "metadata": {},
   "outputs": [
    {
     "name": "stdout",
     "output_type": "stream",
     "text": [
      "The Range is :  213\n"
     ]
    }
   ],
   "source": [
    "#Range\n",
    "\n",
    "rangee=maxx-minn\n",
    "print(\"The Range is : \",rangee)"
   ]
  },
  {
   "cell_type": "code",
   "execution_count": 23,
   "id": "57a12cf0",
   "metadata": {},
   "outputs": [
    {
     "name": "stdout",
     "output_type": "stream",
     "text": [
      "Mean is :  85.25\n"
     ]
    }
   ],
   "source": [
    "#Mean\n",
    "\n",
    "mean=summ/n\n",
    "print(\"Mean is : \",mean)"
   ]
  },
  {
   "cell_type": "code",
   "execution_count": 24,
   "id": "372bc063",
   "metadata": {},
   "outputs": [
    {
     "name": "stdout",
     "output_type": "stream",
     "text": [
      "Variance is :  7516.6875\n"
     ]
    }
   ],
   "source": [
    "#variance\n",
    "\n",
    "for i in range(0,n):\n",
    "    variance=variance+(pow((mylist[i]-mean),2))/n\n",
    "print(\"Variance is : \",variance)"
   ]
  },
  {
   "cell_type": "code",
   "execution_count": 25,
   "id": "51254fe7",
   "metadata": {},
   "outputs": [
    {
     "name": "stdout",
     "output_type": "stream",
     "text": [
      "Standard Deviation is :  86.69883217206562\n"
     ]
    }
   ],
   "source": [
    "#standard deviation\n",
    "\n",
    "sd=math.sqrt(variance)\n",
    "\n",
    "print(\"Standard Deviation is : \",sd)"
   ]
  },
  {
   "cell_type": "code",
   "execution_count": 26,
   "id": "c5ce4476",
   "metadata": {},
   "outputs": [
    {
     "name": "stdout",
     "output_type": "stream",
     "text": [
      "Coefficient of Range :  0.8352941176470589\n"
     ]
    }
   ],
   "source": [
    "#coefficient of range\n",
    "\n",
    "CoE=(maxx-minn)/(maxx+minn)\n",
    "print(\"Coefficient of Range : \",CoE)"
   ]
  },
  {
   "cell_type": "code",
   "execution_count": 27,
   "id": "3c9fd0b0",
   "metadata": {},
   "outputs": [
    {
     "name": "stdout",
     "output_type": "stream",
     "text": [
      "Coefficient of Variation :  1.0169950987925587\n"
     ]
    }
   ],
   "source": [
    "#Coefficient of Variation\n",
    "\n",
    "CoV=sd/mean\n",
    "print(\"Coefficient of Variation : \",CoV)"
   ]
  },
  {
   "cell_type": "code",
   "execution_count": 40,
   "id": "7f2aad18",
   "metadata": {},
   "outputs": [
    {
     "name": "stdout",
     "output_type": "stream",
     "text": [
      "Quartile Q1 is :  1.25\n",
      "Quartile Q2 is :  3.75\n",
      "Inter Quartile Range is :  2.5\n"
     ]
    }
   ],
   "source": [
    "n=len(mylist)\n",
    "\n",
    "#Quartile Formula Q1\n",
    "\n",
    "q1=(n+1)/4\n",
    "\n",
    "#Quartile Formula Q1\n",
    "\n",
    "q3=3*(n+1)/4\n",
    "\n",
    "#InterQuartile Range IQR\n",
    "\n",
    "iqr=q3-q1\n",
    "\n",
    "print(\"Quartile Q1 is : \",q1)\n",
    "print(\"Quartile Q2 is : \",q3)\n",
    "print(\"Inter Quartile Range is : \",iqr)"
   ]
  },
  {
   "cell_type": "code",
   "execution_count": null,
   "id": "f3e92042",
   "metadata": {},
   "outputs": [],
   "source": []
  }
 ],
 "metadata": {
  "kernelspec": {
   "display_name": "Python 3 (ipykernel)",
   "language": "python",
   "name": "python3"
  },
  "language_info": {
   "codemirror_mode": {
    "name": "ipython",
    "version": 3
   },
   "file_extension": ".py",
   "mimetype": "text/x-python",
   "name": "python",
   "nbconvert_exporter": "python",
   "pygments_lexer": "ipython3",
   "version": "3.9.7"
  }
 },
 "nbformat": 4,
 "nbformat_minor": 5
}
