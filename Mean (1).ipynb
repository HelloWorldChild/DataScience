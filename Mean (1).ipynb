{
 "cells": [
  {
   "cell_type": "code",
   "execution_count": 1,
   "id": "ae632f50",
   "metadata": {},
   "outputs": [],
   "source": [
    "#mean\n",
    "import statistics"
   ]
  },
  {
   "cell_type": "code",
   "execution_count": 2,
   "id": "f2e1f19a",
   "metadata": {},
   "outputs": [],
   "source": [
    "#initialisig list\n",
    "li=[1,2,3,4,5,6]"
   ]
  },
  {
   "cell_type": "code",
   "execution_count": 3,
   "id": "9db5cd0e",
   "metadata": {},
   "outputs": [
    {
     "name": "stdout",
     "output_type": "stream",
     "text": [
      "the average of the list: 3.5\n"
     ]
    }
   ],
   "source": [
    "#using mean() to calculate average of list\n",
    "print(\"the average of the list:\",end=\" \")\n",
    "print(statistics.mean(li))\n"
   ]
  },
  {
   "cell_type": "code",
   "execution_count": 4,
   "id": "31ae2546",
   "metadata": {},
   "outputs": [],
   "source": [
    "#median\n",
    "from statistics import median\n"
   ]
  },
  {
   "cell_type": "code",
   "execution_count": 7,
   "id": "8be6ab40",
   "metadata": {},
   "outputs": [
    {
     "name": "stdout",
     "output_type": "stream",
     "text": [
      "median of the dataset 1 is  3\n",
      "median of the dataset 2 is  4.5\n",
      "median of the dataset 3 is  1/2\n",
      "median of the dataset 4 is  -4.5\n",
      "median of the dataset 5 is  1.5\n"
     ]
    }
   ],
   "source": [
    "from fractions import Fraction as fr\n",
    "data1=(1,2,3,4,5)\n",
    "#tuple of floating point value\n",
    "data2=(1.2,4.5,6.7)\n",
    "#tuple of fractional numbers\n",
    "data3=(fr(1,2),fr(44,6),fr(32,89))\n",
    "data4=(-1,-3,-67,-6)\n",
    "data5=(-1,-5,-8,78,43,4)\n",
    "#print the median of above datasets\n",
    "print(\"median of the dataset 1 is \",median(data1))\n",
    "print(\"median of the dataset 2 is \",median(data2))\n",
    "print(\"median of the dataset 3 is \",median(data3))\n",
    "print(\"median of the dataset 4 is \",median(data4))\n",
    "print(\"median of the dataset 5 is \",median(data5))\n",
    "            "
   ]
  },
  {
   "cell_type": "code",
   "execution_count": 1,
   "id": "9ad15064",
   "metadata": {},
   "outputs": [
    {
     "name": "stdout",
     "output_type": "stream",
     "text": [
      "mode of the dataset 1 is  1\n",
      "mode of the dataset 2 is  1.2\n",
      "mode of the dataset 3 is  1/2\n",
      "mode of the dataset 4 is  -1\n",
      "mode of the dataset 5 is  -1\n"
     ]
    }
   ],
   "source": [
    "#mode\n",
    "from statistics import mode\n",
    "from fractions import Fraction as fr\n",
    "data1=(1,2,3,4,5)\n",
    "#tuple of floating point value\n",
    "data2=(1.2,4.5,6.7)\n",
    "#tuple of fractional numbers\n",
    "data3=(fr(1,2),fr(44,6),fr(32,89))\n",
    "data4=(-1,-3,-67,-6)\n",
    "data5=(-1,-5,-8,78,43,4)\n",
    "#print the median of above datasets\n",
    "print(\"mode of the dataset 1 is \",mode(data1))\n",
    "print(\"mode of the dataset 2 is \",mode(data2))\n",
    "print(\"mode of the dataset 3 is \",mode(data3))\n",
    "print(\"mode of the dataset 4 is \",mode(data4))\n",
    "print(\"mode of the dataset 5 is \",mode(data5))"
   ]
  },
  {
   "cell_type": "code",
   "execution_count": 12,
   "id": "4b727feb",
   "metadata": {},
   "outputs": [
    {
     "name": "stdout",
     "output_type": "stream",
     "text": [
      "Maximum=5,Minimum=1,Range=4\n"
     ]
    }
   ],
   "source": [
    "#range\n",
    "#sample data\n",
    "arr=[1,2,3,4,5]\n",
    "#finding max\n",
    "Maximum=max(arr)\n",
    "#finding min\n",
    "Minimum=min(arr)\n",
    "#diffrence of max and min\n",
    "Range=Maximum-Minimum\n",
    "print(\"Maximum={},Minimum={},Range={}\".format(Maximum,Minimum,Range))"
   ]
  },
  {
   "cell_type": "code",
   "execution_count": 13,
   "id": "f40183ab",
   "metadata": {},
   "outputs": [
    {
     "name": "stdout",
     "output_type": "stream",
     "text": [
      "Variance of the dataset 1 is  2.5\n",
      "Variance of the dataset 2 is  7.663333333333333\n",
      "Variance of the dataset 3 is  13594501/855468\n",
      "Variance of the dataset 4 is  1017.5833333333334\n",
      "Variance of the dataset 5 is  1197.1\n"
     ]
    }
   ],
   "source": [
    "#variance\n",
    "#import python module\n",
    "from statistics import variance\n",
    "#importing fractions as parameter values\n",
    "from fractions import Fraction as fr\n",
    "data1=(1,2,3,4,5)\n",
    "#tuple of floating point value\n",
    "data2=(1.2,4.5,6.7)\n",
    "#tuple of fractional numbers\n",
    "data3=(fr(1,2),fr(44,6),fr(32,89))\n",
    "data4=(-1,-3,-67,-6)\n",
    "data5=(-1,-5,-8,78,43,4)\n",
    "#print the Variance of above datasets\n",
    "print(\"Variance of the dataset 1 is \",variance(data1))\n",
    "print(\"Variance of the dataset 2 is \",variance(data2))\n",
    "print(\"Variance of the dataset 3 is \",variance(data3))\n",
    "print(\"Variance of the dataset 4 is \",variance(data4))\n",
    "print(\"Variance of the dataset 5 is \",variance(data5))"
   ]
  },
  {
   "cell_type": "code",
   "execution_count": 14,
   "id": "3aa7757e",
   "metadata": {},
   "outputs": [
    {
     "name": "stdout",
     "output_type": "stream",
     "text": [
      "standard deviation of the dataset 1 is  1.5811388300841898\n",
      "standard deviation of the dataset 2 is  2.7682726262659414\n",
      "standard deviation of the dataset 3 is  3.9863896914731893\n",
      "standard deviation of the dataset 4 is  31.899582024429932\n",
      "standard deviation of the dataset 5 is  34.59913293711274\n"
     ]
    }
   ],
   "source": [
    "from statistics import stdev\n",
    "from fractions import Fraction as fr\n",
    "data1=(1,2,3,4,5)\n",
    "#tuple of floating point value\n",
    "data2=(1.2,4.5,6.7)\n",
    "#tuple of fractional numbers\n",
    "data3=(fr(1,2),fr(44,6),fr(32,89))\n",
    "data4=(-1,-3,-67,-6)\n",
    "data5=(-1,-5,-8,78,43,4)\n",
    "#print the median of above datasets\n",
    "print(\"standard deviation of the dataset 1 is \",stdev(data1))\n",
    "print(\"standard deviation of the dataset 2 is \",stdev(data2))\n",
    "print(\"standard deviation of the dataset 3 is \",stdev(data3))\n",
    "print(\"standard deviation of the dataset 4 is \",stdev(data4))\n",
    "print(\"standard deviation of the dataset 5 is \",stdev(data5))"
   ]
  },
  {
   "cell_type": "code",
   "execution_count": null,
   "id": "8e399553",
   "metadata": {},
   "outputs": [],
   "source": []
  }
 ],
 "metadata": {
  "kernelspec": {
   "display_name": "Python 3 (ipykernel)",
   "language": "python",
   "name": "python3"
  },
  "language_info": {
   "codemirror_mode": {
    "name": "ipython",
    "version": 3
   },
   "file_extension": ".py",
   "mimetype": "text/x-python",
   "name": "python",
   "nbconvert_exporter": "python",
   "pygments_lexer": "ipython3",
   "version": "3.9.7"
  }
 },
 "nbformat": 4,
 "nbformat_minor": 5
}
